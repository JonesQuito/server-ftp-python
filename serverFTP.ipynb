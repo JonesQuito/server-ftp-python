{
 "cells": [
  {
   "cell_type": "code",
   "execution_count": null,
   "metadata": {},
   "outputs": [
    {
     "name": "stderr",
     "output_type": "stream",
     "text": [
      "t:\\ufg\\sisdis1\\lib\\site-packages\\pyftpdlib\\authorizers.py:244: RuntimeWarning: write permissions assigned to anonymous user.\n",
      "  RuntimeWarning)\n",
      "[I 2019-08-28 23:24:58] >>> starting FTP server on ::1:3001, pid=6632 <<<\n",
      "[I 2019-08-28 23:24:58] concurrency model: async\n",
      "[I 2019-08-28 23:24:58] masquerade (NAT) address: None\n",
      "[I 2019-08-28 23:24:58] passive ports: None\n"
     ]
    }
   ],
   "source": [
    "# Importa as componentes necessários\n",
    "from pyftpdlib.authorizers import DummyAuthorizer\n",
    "from pyftpdlib.handlers import FTPHandler\n",
    "from pyftpdlib.servers import FTPServer\n",
    "\n",
    "# Cria um objeto de autorização\n",
    "authorizer = DummyAuthorizer()\n",
    "\n",
    "# Adiciona um usuário informando nome, senha, diretório e permissões\n",
    "authorizer.add_user('Jones Quito', 'jones1987', 'T:\\\\UFG\\\\sisdis1\\\\serverFTP\\\\repositorio', perm='elradfmw')\n",
    "\n",
    "# Permite login anônimo\n",
    "authorizer.add_anonymous('T:\\\\UFG\\\\sisdis1\\\\serverFTP\\\\repositorio', perm='elradfmw')\n",
    "\n",
    "# Cria um manipulador de FTP e define quem é o autorizador desse Manipulador\n",
    "handler = FTPHandler\n",
    "handler.authorizer = authorizer\n",
    "\n",
    "server = FTPServer((\"localhost\", 3001), handler)\n",
    "server.serve_forever()"
   ]
  },
  {
   "cell_type": "code",
   "execution_count": null,
   "metadata": {},
   "outputs": [],
   "source": []
  }
 ],
 "metadata": {
  "kernelspec": {
   "display_name": "Python 3",
   "language": "python",
   "name": "python3"
  },
  "language_info": {
   "codemirror_mode": {
    "name": "ipython",
    "version": 3
   },
   "file_extension": ".py",
   "mimetype": "text/x-python",
   "name": "python",
   "nbconvert_exporter": "python",
   "pygments_lexer": "ipython3",
   "version": "3.7.3"
  }
 },
 "nbformat": 4,
 "nbformat_minor": 2
}
