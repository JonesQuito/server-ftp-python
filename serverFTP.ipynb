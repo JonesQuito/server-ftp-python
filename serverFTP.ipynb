{
 "cells": [
  {
   "cell_type": "code",
   "execution_count": null,
   "metadata": {},
   "outputs": [
    {
     "name": "stderr",
     "output_type": "stream",
     "text": [
      "[I 2019-08-28 22:56:39] >>> starting FTP server on ::1:3001, pid=5704 <<<\n",
      "[I 2019-08-28 22:56:39] concurrency model: async\n",
      "[I 2019-08-28 22:56:39] masquerade (NAT) address: None\n",
      "[I 2019-08-28 22:56:39] passive ports: None\n",
      "[I 2019-08-28 22:57:59] ::1:55614-[] FTP session opened (connect)\n",
      "[I 2019-08-28 22:57:59] ::1:55614-[Jones Quito] USER 'Jones Quito' logged in.\n",
      "[I 2019-08-28 22:57:59] ::1:55614-[Jones Quito] CWD T:\\UFG\\sisdis1\\serverFTP\\repositorio 250\n",
      "[I 2019-08-28 22:58:14] ::1:55614-[Jones Quito] FTP session closed (disconnect).\n",
      "[I 2019-08-28 22:58:14] ::1:55618-[] FTP session opened (connect)\n",
      "[I 2019-08-28 22:58:14] ::1:55618-[Jones Quito] USER 'Jones Quito' logged in.\n",
      "[I 2019-08-28 22:58:14] ::1:55618-[Jones Quito] CWD T:\\UFG\\sisdis1\\serverFTP\\repositorio 250\n",
      "[I 2019-08-28 22:58:48] ::1:55618-[Jones Quito] FTP session closed (disconnect).\n",
      "[I 2019-08-28 22:58:48] ::1:55622-[] FTP session opened (connect)\n",
      "[I 2019-08-28 22:58:48] ::1:55622-[Jones Quito] USER 'Jones Quito' logged in.\n",
      "[I 2019-08-28 22:58:48] ::1:55622-[Jones Quito] CWD T:\\UFG\\sisdis1\\serverFTP\\repositorio 250\n",
      "[I 2019-08-28 22:59:09] ::1:55622-[Jones Quito] RETR T:\\UFG\\sisdis1\\serverFTP\\repositorio\\imagem.jpg completed=1 bytes=72573 seconds=0.016\n",
      "[I 2019-08-28 22:59:09] ::1:55622-[Jones Quito] FTP session closed (disconnect).\n"
     ]
    }
   ],
   "source": [
    "# Importa as componentes necessários\n",
    "from pyftpdlib.authorizers import DummyAuthorizer\n",
    "from pyftpdlib.handlers import FTPHandler\n",
    "from pyftpdlib.servers import FTPServer\n",
    "\n",
    "# Cria um objeto de autorização\n",
    "authorizer = DummyAuthorizer()\n",
    "\n",
    "# Adiciona um usuário informando nome, senha, diretório e permissões\n",
    "authorizer.add_user('Jones Quito', 'jones1987', 'T:\\\\UFG\\\\sisdis1\\\\serverFTP\\\\repositorio', perm='elradfmw')\n",
    "\n",
    "# Permite login anônimo\n",
    "authorizer.add_anonymous('T:\\\\UFG\\\\sisdis1\\\\serverFTP\\\\repositorio', perm='elradfmw')\n",
    "\n",
    "# Cria um manipulador de FTP e define quem é o autorizador desse Manipulador\n",
    "handler = FTPHandler\n",
    "handler.authorizer = authorizer\n",
    "\n",
    "server = FTPServer((\"localhost\", 3001), handler)\n",
    "server.serve_forever()"
   ]
  },
  {
   "cell_type": "code",
   "execution_count": null,
   "metadata": {},
   "outputs": [],
   "source": []
  }
 ],
 "metadata": {
  "kernelspec": {
   "display_name": "Python 3",
   "language": "python",
   "name": "python3"
  },
  "language_info": {
   "codemirror_mode": {
    "name": "ipython",
    "version": 3
   },
   "file_extension": ".py",
   "mimetype": "text/x-python",
   "name": "python",
   "nbconvert_exporter": "python",
   "pygments_lexer": "ipython3",
   "version": "3.7.3"
  }
 },
 "nbformat": 4,
 "nbformat_minor": 2
}
