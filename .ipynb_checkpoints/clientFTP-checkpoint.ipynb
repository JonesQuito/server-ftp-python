{
 "cells": [
  {
   "cell_type": "code",
   "execution_count": 16,
   "metadata": {},
   "outputs": [
    {
     "name": "stdout",
     "output_type": "stream",
     "text": [
      "-rw-rw-rw-   1 owner    group     1511855 Jun 26 13:02 4951-13515-1-PB.pdf\n",
      "-rw-rw-rw-   1 owner    group     1171430 Aug 20 13:15 AtribuiÃ§Ã£o de Perfis de Autoria- (Edson R. D. Weren).pdf\n",
      "-rw-rw-rw-   1 owner    group      184249 Aug 24 01:20 Authorship Attribution and Verification with Many Authors and Limited.pdf\n",
      "-rw-rw-rw-   1 owner    group    15443287 Aug 27 02:44 O USO DE ATRIBUTOS ESTILOMÃTRICOS NA IDENTIFICAÃÃO DA AUTORIA DE TEXTOS - PDF.pdf\n",
      "-rw-rw-rw-   1 owner    group          12 Aug 28 02:10 One File any.txt\n",
      "-rw-rw-rw-   1 owner    group     2014903 Aug 27 02:34 Um MÃ©todo para Coleta, Tratamento de uma Base de Dados de Textos LiterÃ¡rios em LÃ­ngua Portuguesa para uso na IdentificaÃ§Ã£o de Autoria - PDF.pdf\n",
      "-rw-rw-rw-   1 owner    group     1269683 Jun 26 13:02 dissertaÃ§Ã£o (67).pdf\n",
      "-rw-rw-rw-   1 owner    group       72573 May 07 15:21 imagem.jpg\n",
      "drwxrwxrwx   1 owner    group           0 Aug 28 02:20 new Folder\n",
      "-rw-rw-rw-   1 owner    group          11 Aug 28 04:10 teste\n"
     ]
    }
   ],
   "source": [
    "# Importa as bibliotecas necessárias\n",
    "import os\n",
    "from ftplib import FTP\n",
    "\n",
    "# Instancia um objeto ftp e estabelece uma conexão\n",
    "ftp = FTP('')\n",
    "ftp.connect('localhost', 3001)\n",
    "ftp.login('Jones Quito', 'jones1987')\n",
    "#ftp.login()\n",
    "\n",
    "# Após conectado, me movo para dentro do repositório padrão do servidor\n",
    "ftp.cwd('/T:\\\\UFG\\\\sisdis1\\\\serverFTP\\\\repositorio/')\n",
    "\n",
    "# Faço a listagem dos arquivos no servidor\n",
    "ftp.retrlines('LIST')\n",
    "\n",
    "\n",
    "# Verifica se um dado arquivo já existe, caso contrário cria o arquivo\n",
    "def createFileIfNotExist(filename):\n",
    "    if not os.path.isfile(filename):\n",
    "        open(filename, 'w').close()\n",
    "\n",
    "\n",
    "# Faz o download de um arquivo especificado no parâmetro        \n",
    "def downfile(filename):\n",
    "    createFileIfNotExist(filename)\n",
    "    ftp.retrbinary('RETR ' + filename, open(filename, 'wb').write, 1024)\n",
    "    ftp.quit()\n",
    "    \n",
    "#downfile('One File any.txt')\n",
    "    \n",
    "# Função para upload de arquivo\n",
    "def uploadfile(ip, port, diretorio, file, user, passwd):\n",
    "    localfile = open(file, 'rb')\n",
    "    \n",
    "    # Cria uma instância do servidor FTP\n",
    "    conn = FTP('')\n",
    "    \n",
    "    # Connecta no servidor\n",
    "    conn.connect(ip, port)\n",
    "    \n",
    "    # Faz login no servidor\n",
    "    conn.login(user, passwd)\n",
    "    \n",
    "    # Muda para o diretório onde deverá ser feito o upload\n",
    "    conn.cwd(diretorio)\n",
    "    \n",
    "    # Inicia o upload do arquivo\n",
    "    conn.storbinary('STOR ' + file, localfile, 1024)\n",
    "    \n",
    "    # Fecha a conexão e o arquivo local\n",
    "    conn.quit()\n",
    "    localfile.close()\n",
    "    \n",
    "    print('Envio concluído!')\n",
    "    \n",
    "\n",
    "#ip, port, diretorio, file, user, passwd"
   ]
  },
  {
   "cell_type": "code",
   "execution_count": 17,
   "metadata": {},
   "outputs": [],
   "source": [
    "downfile('imagem.jpg')"
   ]
  },
  {
   "cell_type": "code",
   "execution_count": 19,
   "metadata": {},
   "outputs": [
    {
     "ename": "TypeError",
     "evalue": "uploadfile() takes 5 positional arguments but 6 were given",
     "output_type": "error",
     "traceback": [
      "\u001b[1;31m---------------------------------------------------------------------------\u001b[0m",
      "\u001b[1;31mTypeError\u001b[0m                                 Traceback (most recent call last)",
      "\u001b[1;32m<ipython-input-19-973eae392539>\u001b[0m in \u001b[0;36m<module>\u001b[1;34m\u001b[0m\n\u001b[1;32m----> 1\u001b[1;33m \u001b[0muploadfile\u001b[0m\u001b[1;33m(\u001b[0m\u001b[1;34m'localhost'\u001b[0m\u001b[1;33m,\u001b[0m \u001b[1;36m3001\u001b[0m\u001b[1;33m,\u001b[0m \u001b[1;34m'/T:\\\\UFG\\\\sisdis1\\\\serverFTP\\\\repositorio/'\u001b[0m\u001b[1;33m,\u001b[0m \u001b[1;34m'C:\\\\Users\\\\Jones Quito\\\\Pictures\\Pietro Hawer.jpg'\u001b[0m\u001b[1;33m,\u001b[0m \u001b[1;34m'Jones Quito'\u001b[0m\u001b[1;33m,\u001b[0m \u001b[1;34m'jones1987'\u001b[0m\u001b[1;33m)\u001b[0m\u001b[1;33m\u001b[0m\u001b[1;33m\u001b[0m\u001b[0m\n\u001b[0m",
      "\u001b[1;31mTypeError\u001b[0m: uploadfile() takes 5 positional arguments but 6 were given"
     ]
    }
   ],
   "source": [
    "uploadfile('localhost', 3001, '/T:\\\\UFG\\\\sisdis1\\\\serverFTP\\\\repositorio/', 'C:\\\\Users\\\\Jones Quito\\\\Pictures\\Pietro Hawer.jpg', 'Jones Quito', 'jones1987')"
   ]
  },
  {
   "cell_type": "code",
   "execution_count": null,
   "metadata": {},
   "outputs": [],
   "source": []
  }
 ],
 "metadata": {
  "kernelspec": {
   "display_name": "Python 3",
   "language": "python",
   "name": "python3"
  },
  "language_info": {
   "codemirror_mode": {
    "name": "ipython",
    "version": 3
   },
   "file_extension": ".py",
   "mimetype": "text/x-python",
   "name": "python",
   "nbconvert_exporter": "python",
   "pygments_lexer": "ipython3",
   "version": "3.7.3"
  }
 },
 "nbformat": 4,
 "nbformat_minor": 2
}
