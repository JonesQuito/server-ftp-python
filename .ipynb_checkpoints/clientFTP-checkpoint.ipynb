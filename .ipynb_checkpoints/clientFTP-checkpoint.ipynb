{
 "cells": [
  {
   "cell_type": "code",
   "execution_count": null,
   "metadata": {},
   "outputs": [],
   "source": [
    "# Importa as bibliotecas necessárias\n",
    "import os\n",
    "from ftplib import FTP\n",
    "\n",
    "# Instancia um objeto ftp e estabelece uma conexão\n",
    "ftp = FTP('')\n",
    "ftp.connect('localhost', 3001)\n",
    "ftp.login('Jones Quito', 'jones1987')\n",
    "#ftp.login()\n",
    "\n",
    "# Após conectado, me movo para dentro do repositório padrão do servidor\n",
    "ftp.cwd('/T:\\\\UFG\\\\sisdis1\\\\serverFTP\\\\repositorio/')\n",
    "\n",
    "# Faço a listagem dos arquivos no servidor\n",
    "ftp.retrlines('LIST')\n",
    "\n",
    "\n",
    "# Verifica se um dado arquivo já existe, caso contrário cria o arquivo\n",
    "def createFileIfNotExist(filename):\n",
    "    if not os.path.isfile(filename):\n",
    "        open(filename, 'w').close()\n",
    "\n",
    "\n",
    "# Faz o download de um arquivo especificado no parâmetro        \n",
    "def downfile(filename):\n",
    "    createFileIfNotExist(filename)\n",
    "    ftp.retrbinary('RETR ' + filename, open(filename, 'wb').write, 1024)\n",
    "    ftp.quit()\n",
    "    \n",
    "#downfile('One File any.txt')\n",
    "    \n",
    "# Função para upload de arquivo\n",
    "def uploadfile(ip, port, diretorio, file, user, passwd):\n",
    "    localfile = open(file, 'rb')\n",
    "    \n",
    "    # Cria uma instância do servidor FTP\n",
    "    conn = FTP('')\n",
    "    \n",
    "    # Connecta no servidor\n",
    "    conn.connect(ip, port)\n",
    "    \n",
    "    # Faz login no servidor\n",
    "    conn.login(user, passwd)\n",
    "    \n",
    "    # Muda para o diretório onde deverá ser feito o upload\n",
    "    conn.cwd(diretorio)\n",
    "    \n",
    "    # Inicia o upload do arquivo\n",
    "    conn.storbinary('STOR ' + file, localfile, 1024)\n",
    "    \n",
    "    # Fecha a conexão e o arquivo local\n",
    "    conn.quit()\n",
    "    localfile.close()\n",
    "    \n",
    "    print('Envio concluído!')\n",
    "    \n",
    "\n",
    "#ip, port, diretorio, file, user, passwd"
   ]
  },
  {
   "cell_type": "code",
   "execution_count": null,
   "metadata": {},
   "outputs": [],
   "source": [
    "downfile('4951-13515-1-PB.pdf')"
   ]
  },
  {
   "cell_type": "code",
   "execution_count": null,
   "metadata": {},
   "outputs": [],
   "source": [
    "uploadfile('localhost', 3001, '/T:\\\\UFG\\\\sisdis1\\\\serverFTP\\\\repositorio/', 'database.png', 'Jones Quito', 'jones1987')"
   ]
  }
 ],
 "metadata": {
  "kernelspec": {
   "display_name": "Python 3",
   "language": "python",
   "name": "python3"
  },
  "language_info": {
   "codemirror_mode": {
    "name": "ipython",
    "version": 3
   },
   "file_extension": ".py",
   "mimetype": "text/x-python",
   "name": "python",
   "nbconvert_exporter": "python",
   "pygments_lexer": "ipython3",
   "version": "3.7.3"
  }
 },
 "nbformat": 4,
 "nbformat_minor": 2
}
